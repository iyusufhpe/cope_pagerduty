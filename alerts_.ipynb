{
 "cells": [
  {
   "cell_type": "markdown",
   "metadata": {},
   "source": [
    "# Investigate Alerts JSON data\n",
    "\n",
    "## How many top level JSON object is present August and September alert json data."
   ]
  },
  {
   "cell_type": "code",
   "execution_count": 1,
   "metadata": {},
   "outputs": [
    {
     "name": "stdout",
     "output_type": "stream",
     "text": [
      "Number of top-level IDs: 762\n"
     ]
    }
   ],
   "source": [
    "import json\n",
    "\n",
    "def count_top_level_ids(json_file):\n",
    "    with open(json_file, 'r') as infile:\n",
    "        data = json.load(infile)\n",
    "    \n",
    "    # Extract top-level IDs\n",
    "    ids = [item['id'] for item in data if 'id' in item]\n",
    "    \n",
    "    # Count unique IDs\n",
    "    unique_ids = set(ids)\n",
    "    return len(unique_ids)\n",
    "\n",
    "# File path\n",
    "json_file = './data/alerts_augsep24.json'\n",
    "\n",
    "# Count top-level IDs\n",
    "num_ids = count_top_level_ids(json_file)\n",
    "print(f\"Number of top-level IDs: {num_ids}\")"
   ]
  },
  {
   "cell_type": "markdown",
   "metadata": {},
   "source": [
    "- Investigate a incident to alerts ratio.\n",
    "- "
   ]
  },
  {
   "cell_type": "code",
   "execution_count": 4,
   "metadata": {},
   "outputs": [
    {
     "name": "stdout",
     "output_type": "stream",
     "text": [
      "./data/incident_ids_0921_0930_alerts.json is a valid JSON file.\n"
     ]
    }
   ],
   "source": [
    "import json\n",
    "\n",
    "def validate_json(file_path):\n",
    "    try:\n",
    "        with open(file_path, 'r') as file:\n",
    "            json.load(file)\n",
    "        print(f\"{file_path} is a valid JSON file.\")\n",
    "    except json.JSONDecodeError as e:\n",
    "        print(f\"Invalid JSON in {file_path}: {e}\")\n",
    "\n",
    "# Path to your JSON file\n",
    "file_path = './data/incident_ids_0921_0930_alerts.json'\n",
    "\n",
    "# Validate the JSON file\n",
    "validate_json(file_path)"
   ]
  }
 ],
 "metadata": {
  "kernelspec": {
   "display_name": ".virtualenv",
   "language": "python",
   "name": "python3"
  },
  "language_info": {
   "codemirror_mode": {
    "name": "ipython",
    "version": 3
   },
   "file_extension": ".py",
   "mimetype": "text/x-python",
   "name": "python",
   "nbconvert_exporter": "python",
   "pygments_lexer": "ipython3",
   "version": "3.11.10"
  }
 },
 "nbformat": 4,
 "nbformat_minor": 2
}
